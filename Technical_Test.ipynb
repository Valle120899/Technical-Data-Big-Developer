{
 "cells": [
  {
   "cell_type": "code",
   "execution_count": 1,
   "id": "cf92957c",
   "metadata": {},
   "outputs": [],
   "source": [
    "#Import libraries\n",
    "import boto3\n",
    "from pyspark.sql import SparkSession\n",
    "from pyspark.sql.functions import col, explode, concat_ws, from_unixtime, dense_rank, monotonically_increasing_id\n",
    "from pyspark.sql.functions import hour, minute,  dayofmonth, month, year\n",
    "from pyspark.sql.window import Window"
   ]
  },
  {
   "cell_type": "code",
   "execution_count": 2,
   "id": "4c728c78",
   "metadata": {},
   "outputs": [],
   "source": [
    "#Initialing Spark Session\n",
    "spark = SparkSession.builder.getOrCreate()"
   ]
  },
  {
   "cell_type": "code",
   "execution_count": 3,
   "id": "6e0b5401",
   "metadata": {},
   "outputs": [],
   "source": [
    "#Global Variables\n",
    "Access_Key = ''\n",
    "Secret_Key = ''\n",
    "\n",
    "#Bucket\n",
    "Bucket = ''\n",
    "Prefix = ''\n",
    "S3_Uri = f's3://{Bucket}/{Prefix}'\n",
    "\n",
    "#AWS Redshift vars\n",
    "host=''\n",
    "port=''\n",
    "user=''\n",
    "password=''\n",
    "database=''"
   ]
  },
  {
   "cell_type": "code",
   "execution_count": 4,
   "id": "0010bc55",
   "metadata": {},
   "outputs": [],
   "source": [
    "session = boto3.Session(\n",
    "    aws_access_key_id=Access_Key,\n",
    "    aws_secret_access_key=Secret_Key\n",
    ")\n",
    "credentials = session.get_credentials()\n",
    "spark._jsc.hadoopConfiguration().set(\n",
    "    'fs.s3a.access.key', credentials.access_key)\n",
    "spark._jsc.hadoopConfiguration().set(\n",
    "    'fs.s3a.secret.key', credentials.secret_key)"
   ]
  },
  {
   "cell_type": "code",
   "execution_count": 5,
   "id": "498080e1",
   "metadata": {},
   "outputs": [
    {
     "name": "stdout",
     "output_type": "stream",
     "text": [
      "Error: An error occurred (SignatureDoesNotMatch) when calling the ListObjectsV2 operation: The request signature we calculated does not match the signature you provided. Check your key and signing method.\n"
     ]
    }
   ],
   "source": [
    "#Review about the items in the bucket with the prefix\n",
    "try:\n",
    "    s3_client = session.client('s3')\n",
    "\n",
    "    response = s3_client.list_objects_v2(\n",
    "        Bucket=Bucket,\n",
    "        Prefix=Prefix\n",
    "    )\n",
    "except Exception as e:\n",
    "    print(f\"Error: {e}\")"
   ]
  },
  {
   "cell_type": "markdown",
   "id": "d68721e4",
   "metadata": {},
   "source": [
    "# Reading data"
   ]
  },
  {
   "cell_type": "code",
   "execution_count": 6,
   "id": "19305a0a",
   "metadata": {},
   "outputs": [],
   "source": [
    "ds = spark.read.json(\"data-sample.json\")\n",
    "\n",
    "#The credentials doesn't work, so I decided to leave evidence about how to read data from a Bucket in json or parquet format\n",
    "#json_df = spark.read.json(S3_Uri)\n",
    "#parquet_df = spark.read.parquet(S3_Uri)"
   ]
  },
  {
   "cell_type": "code",
   "execution_count": 7,
   "id": "2b564e6d",
   "metadata": {},
   "outputs": [
    {
     "name": "stdout",
     "output_type": "stream",
     "text": [
      "+--------------------+-------+----------+--------+----+-------+----+------+-----+\n",
      "|     _corrupt_record|adverts|applicants|benefits|city|company|  id|sector|title|\n",
      "+--------------------+-------+----------+--------+----+-------+----+------+-----+\n",
      "|[{\"id\":\"806a2843-...|   null|      null|    null|null|   null|null|  null| null|\n",
      "+--------------------+-------+----------+--------+----+-------+----+------+-----+\n",
      "only showing top 1 row\n",
      "\n"
     ]
    }
   ],
   "source": [
    "#Data view\n",
    "ds.show(1)"
   ]
  },
  {
   "cell_type": "markdown",
   "id": "be0577b8",
   "metadata": {},
   "source": [
    "# ETL Process"
   ]
  },
  {
   "cell_type": "code",
   "execution_count": 8,
   "id": "7c78bad9",
   "metadata": {},
   "outputs": [],
   "source": [
    "ds = ds.drop('_corrupt_record')"
   ]
  },
  {
   "cell_type": "code",
   "execution_count": 9,
   "id": "56575891",
   "metadata": {},
   "outputs": [
    {
     "data": {
      "text/plain": [
       "300"
      ]
     },
     "execution_count": 9,
     "metadata": {},
     "output_type": "execute_result"
    }
   ],
   "source": [
    "ds.count()"
   ]
  },
  {
   "cell_type": "code",
   "execution_count": 10,
   "id": "7864f5d4",
   "metadata": {},
   "outputs": [
    {
     "name": "stdout",
     "output_type": "stream",
     "text": [
      "root\n",
      " |-- adverts: struct (nullable = true)\n",
      " |    |-- activeDays: long (nullable = true)\n",
      " |    |-- applyUrl: string (nullable = true)\n",
      " |    |-- id: string (nullable = true)\n",
      " |    |-- publicationDateTime: string (nullable = true)\n",
      " |    |-- status: string (nullable = true)\n",
      " |-- applicants: array (nullable = true)\n",
      " |    |-- element: struct (containsNull = true)\n",
      " |    |    |-- age: long (nullable = true)\n",
      " |    |    |-- applicationDate: string (nullable = true)\n",
      " |    |    |-- firstName: string (nullable = true)\n",
      " |    |    |-- lastName: string (nullable = true)\n",
      " |    |    |-- skills: array (nullable = true)\n",
      " |    |    |    |-- element: string (containsNull = true)\n",
      " |-- benefits: array (nullable = true)\n",
      " |    |-- element: string (containsNull = true)\n",
      " |-- city: string (nullable = true)\n",
      " |-- company: string (nullable = true)\n",
      " |-- id: string (nullable = true)\n",
      " |-- sector: string (nullable = true)\n",
      " |-- title: string (nullable = true)\n",
      "\n"
     ]
    }
   ],
   "source": [
    "ds.printSchema()"
   ]
  },
  {
   "cell_type": "code",
   "execution_count": 11,
   "id": "b8f7ea1a",
   "metadata": {},
   "outputs": [],
   "source": [
    "ds = ds.withColumnRenamed('id', 'id_principal')"
   ]
  },
  {
   "cell_type": "code",
   "execution_count": 12,
   "id": "0943730a",
   "metadata": {},
   "outputs": [],
   "source": [
    "# Splittear las columnas\n",
    "ds = ds.select(\"adverts.*\", \n",
    "              explode(\"applicants\").alias(\"applicant\"), \n",
    "              \"benefits\", \n",
    "              \"city\", \n",
    "              \"company\", \n",
    "              \"id_principal\", \n",
    "              \"sector\", \n",
    "              \"title\")\n"
   ]
  },
  {
   "cell_type": "code",
   "execution_count": 13,
   "id": "aa7f4b95",
   "metadata": {},
   "outputs": [
    {
     "name": "stdout",
     "output_type": "stream",
     "text": [
      "root\n",
      " |-- activeDays: long (nullable = true)\n",
      " |-- applyUrl: string (nullable = true)\n",
      " |-- id: string (nullable = true)\n",
      " |-- publicationDateTime: string (nullable = true)\n",
      " |-- status: string (nullable = true)\n",
      " |-- applicant: struct (nullable = true)\n",
      " |    |-- age: long (nullable = true)\n",
      " |    |-- applicationDate: string (nullable = true)\n",
      " |    |-- firstName: string (nullable = true)\n",
      " |    |-- lastName: string (nullable = true)\n",
      " |    |-- skills: array (nullable = true)\n",
      " |    |    |-- element: string (containsNull = true)\n",
      " |-- benefits: array (nullable = true)\n",
      " |    |-- element: string (containsNull = true)\n",
      " |-- city: string (nullable = true)\n",
      " |-- company: string (nullable = true)\n",
      " |-- id_principal: string (nullable = true)\n",
      " |-- sector: string (nullable = true)\n",
      " |-- title: string (nullable = true)\n",
      "\n"
     ]
    }
   ],
   "source": [
    "ds.printSchema()"
   ]
  },
  {
   "cell_type": "code",
   "execution_count": 14,
   "id": "1f494439",
   "metadata": {},
   "outputs": [],
   "source": [
    "# Splittear las columnas dentro de \"applicant\"\n",
    "ds = ds.select(\"activeDays\", \n",
    "               \"applyUrl\", \n",
    "               \"id\", \n",
    "               \"publicationDateTime\", \n",
    "               \"status\",\n",
    "               col(\"applicant.age\").alias(\"age\"),\n",
    "               col(\"applicant.applicationDate\").alias(\"applicationDate\"),\n",
    "               col(\"applicant.firstName\").alias(\"firstName\"),\n",
    "               col(\"applicant.lastName\").alias(\"lastName\"),\n",
    "               col(\"applicant.skills\").alias(\"skills\"),\n",
    "               \"benefits\", \n",
    "               \"city\", \n",
    "               \"company\", \n",
    "               \"id_principal\", \n",
    "               \"sector\", \n",
    "               \"title\")"
   ]
  },
  {
   "cell_type": "code",
   "execution_count": 15,
   "id": "d3f29a39",
   "metadata": {},
   "outputs": [
    {
     "name": "stdout",
     "output_type": "stream",
     "text": [
      "+----------+--------------------+--------------------+-------------------+------+---+---------------+---------+--------+--------------------+--------------------+--------+--------------------+--------------------+--------------------+------------------+\n",
      "|activeDays|            applyUrl|                  id|publicationDateTime|status|age|applicationDate|firstName|lastName|              skills|            benefits|    city|             company|        id_principal|              sector|             title|\n",
      "+----------+--------------------+--------------------+-------------------+------+---+---------------+---------+--------+--------------------+--------------------+--------+--------------------+--------------------+--------------------+------------------+\n",
      "|         7|https://sourcefor...|4bfccc55-c9f9-423...|         1565329261|Active| 62|     1565588461|   Giraud|   Fakes|[Kettlebells, EoM...|[Medical Insuranc...|Dongtuan|Waters, Ferry and...|d137f114-b0b8-4cb...|Research and Deve...|Staff Accountant I|\n",
      "+----------+--------------------+--------------------+-------------------+------+---+---------------+---------+--------+--------------------+--------------------+--------+--------------------+--------------------+--------------------+------------------+\n",
      "only showing top 1 row\n",
      "\n"
     ]
    }
   ],
   "source": [
    "ds.show(1)"
   ]
  },
  {
   "cell_type": "code",
   "execution_count": 16,
   "id": "83ca1f60",
   "metadata": {},
   "outputs": [],
   "source": [
    "#Splitting array columns\n",
    "ds = ds.withColumn(\"benefits_split\", concat_ws(\", \", \"benefits\"))\n",
    "ds = ds.withColumn(\"skills_split\", concat_ws(\", \", \"skills\"))\n",
    "\n",
    "#Dropping array columns\n",
    "Columns_to_drop = [\"skills\", \"benefits\"]\n",
    "ds = ds.drop(*Columns_to_drop)"
   ]
  },
  {
   "cell_type": "code",
   "execution_count": 17,
   "id": "a50ca69c",
   "metadata": {},
   "outputs": [],
   "source": [
    "ds = ds.withColumnRenamed('id', 'id_adverts')"
   ]
  },
  {
   "cell_type": "code",
   "execution_count": 18,
   "id": "f7322c63",
   "metadata": {},
   "outputs": [
    {
     "name": "stdout",
     "output_type": "stream",
     "text": [
      "root\n",
      " |-- activeDays: long (nullable = true)\n",
      " |-- applyUrl: string (nullable = true)\n",
      " |-- id_adverts: string (nullable = true)\n",
      " |-- publicationDateTime: string (nullable = true)\n",
      " |-- status: string (nullable = true)\n",
      " |-- age: long (nullable = true)\n",
      " |-- applicationDate: string (nullable = true)\n",
      " |-- firstName: string (nullable = true)\n",
      " |-- lastName: string (nullable = true)\n",
      " |-- city: string (nullable = true)\n",
      " |-- company: string (nullable = true)\n",
      " |-- id_principal: string (nullable = true)\n",
      " |-- sector: string (nullable = true)\n",
      " |-- title: string (nullable = true)\n",
      " |-- benefits_split: string (nullable = false)\n",
      " |-- skills_split: string (nullable = false)\n",
      "\n"
     ]
    }
   ],
   "source": [
    "ds.printSchema()"
   ]
  },
  {
   "cell_type": "markdown",
   "id": "302eec58",
   "metadata": {},
   "source": [
    "# Ordering ds"
   ]
  },
  {
   "cell_type": "code",
   "execution_count": 19,
   "id": "fc1c199e",
   "metadata": {},
   "outputs": [],
   "source": [
    "ds = ds.select(\"id_principal\",\n",
    "               \"id_adverts\",\n",
    "                \"company\",\n",
    "               \"city\",\n",
    "               \"sector\",\n",
    "               \"title\",\n",
    "               \"status\",\n",
    "               \"publicationDateTime\",\n",
    "               \"activeDays\",\n",
    "               \"applyUrl\",\n",
    "               \"benefits_split\",\n",
    "               \"firstName\",\n",
    "               \"lastName\",\n",
    "               \"age\",\n",
    "               \"skills_split\" ,\n",
    "               \"applicationDate\"\n",
    "              )"
   ]
  },
  {
   "cell_type": "markdown",
   "id": "f69d8aab",
   "metadata": {},
   "source": [
    "# Casting date colums"
   ]
  },
  {
   "cell_type": "code",
   "execution_count": 20,
   "id": "4f88c642",
   "metadata": {},
   "outputs": [],
   "source": [
    "ds = ds.withColumn(\"publicationDateTime\", from_unixtime(col(\"publicationDateTime\")).cast(\"timestamp\"))\n",
    "ds = ds.withColumn(\"applicationDate\", from_unixtime(col(\"applicationDate\")).cast(\"timestamp\"))\n"
   ]
  },
  {
   "cell_type": "code",
   "execution_count": 21,
   "id": "33665c39",
   "metadata": {},
   "outputs": [
    {
     "name": "stdout",
     "output_type": "stream",
     "text": [
      "+--------------------+--------------------+--------------------+--------+--------------------+------------------+------+-------------------+----------+--------------------+--------------------+---------+--------+---+--------------------+-------------------+\n",
      "|        id_principal|          id_adverts|             company|    city|              sector|             title|status|publicationDateTime|activeDays|            applyUrl|      benefits_split|firstName|lastName|age|        skills_split|    applicationDate|\n",
      "+--------------------+--------------------+--------------------+--------+--------------------+------------------+------+-------------------+----------+--------------------+--------------------+---------+--------+---+--------------------+-------------------+\n",
      "|d137f114-b0b8-4cb...|4bfccc55-c9f9-423...|Waters, Ferry and...|Dongtuan|Research and Deve...|Staff Accountant I|Active|2019-08-08 23:41:01|         7|https://sourcefor...|Medical Insurance...|   Giraud|   Fakes| 62|Kettlebells, EoMP...|2019-08-11 23:41:01|\n",
      "+--------------------+--------------------+--------------------+--------+--------------------+------------------+------+-------------------+----------+--------------------+--------------------+---------+--------+---+--------------------+-------------------+\n",
      "only showing top 1 row\n",
      "\n"
     ]
    }
   ],
   "source": [
    "ds.show(1)"
   ]
  },
  {
   "cell_type": "code",
   "execution_count": 22,
   "id": "59ed6888",
   "metadata": {},
   "outputs": [],
   "source": [
    "df = ds.dropna(subset=[\"firstName\"])"
   ]
  },
  {
   "cell_type": "markdown",
   "id": "9d1a9f60",
   "metadata": {},
   "source": [
    "# Analysis\n",
    "#In order to have the table facts and dimensions, I recommend:\n",
    "#Facts: Application\n",
    "#Dimensions: company, date, work, candidate"
   ]
  },
  {
   "cell_type": "markdown",
   "id": "33221e98",
   "metadata": {},
   "source": [
    "# Dimension"
   ]
  },
  {
   "cell_type": "code",
   "execution_count": 23,
   "id": "dce773bb",
   "metadata": {},
   "outputs": [],
   "source": [
    "#Creating ID per dimensions \n",
    "df = df.withColumn(\"ID_Company\", dense_rank().over(Window.orderBy(\"company\")))\n",
    "df = df.withColumn(\"ID_Date\", dense_rank().over(Window.orderBy(\"publicationDateTime\")))\n",
    "\n",
    "#For candidate first of all I'm going to create the full name column to create and id based on that column\n",
    "df = df.withColumn(\"Full_Name\", concat_ws(\" \",df.firstName, df.lastName))\n",
    "df = df.withColumn(\"ID_Candidate\", dense_rank().over(Window.orderBy(\"Full_Name\")))"
   ]
  },
  {
   "cell_type": "code",
   "execution_count": 24,
   "id": "df8adf36",
   "metadata": {},
   "outputs": [],
   "source": [
    "#Company\n",
    "D_Company = df.select('ID_Company', 'company','city','sector').distinct()"
   ]
  },
  {
   "cell_type": "code",
   "execution_count": 25,
   "id": "08fb0e35",
   "metadata": {},
   "outputs": [
    {
     "name": "stdout",
     "output_type": "stream",
     "text": [
      "+----------+-------------------------------+---------+--------+\n",
      "|ID_Company|company                        |city     |sector  |\n",
      "+----------+-------------------------------+---------+--------+\n",
      "|1         |Abernathy, Haag and Wisozk     |Svetlyy  |Services|\n",
      "|2         |Adams LLC                      |Alimono  |Training|\n",
      "|3         |Altenwerth, Volkman and Runte  |Altavista|null    |\n",
      "|4         |Altenwerth-Steuber             |Jianghu  |Support |\n",
      "|5         |Ankunding, Jaskolski and Crooks|Górki    |Services|\n",
      "+----------+-------------------------------+---------+--------+\n",
      "only showing top 5 rows\n",
      "\n"
     ]
    }
   ],
   "source": [
    "D_Company.show(5,False)"
   ]
  },
  {
   "cell_type": "code",
   "execution_count": 26,
   "id": "f3fc095d",
   "metadata": {},
   "outputs": [],
   "source": [
    "#Date\n",
    "D_Date = df.select('ID_Date', 'publicationDateTime', 'activeDays').dropDuplicates()\n",
    "\n",
    "#Extracting day, month and year trnasformations\n",
    "D_Date = D_Date.withColumn(\"_day\", dayofmonth(D_Date[\"publicationDateTime\"]))\\\n",
    "        .withColumn(\"_month\", month(D_Date[\"publicationDateTime\"]))\\\n",
    "        .withColumn(\"_year\", year(D_Date[\"publicationDateTime\"]))\\\n",
    "        .withColumn(\"_hour\", hour(D_Date[\"publicationDateTime\"]))\\\n",
    "        .withColumn(\"_minute\", minute(D_Date[\"publicationDateTime\"]))"
   ]
  },
  {
   "cell_type": "code",
   "execution_count": 27,
   "id": "55c0c65f",
   "metadata": {},
   "outputs": [
    {
     "name": "stdout",
     "output_type": "stream",
     "text": [
      "+-------+-------------------+----------+----+------+-----+-----+-------+\n",
      "|ID_Date|publicationDateTime|activeDays|_day|_month|_year|_hour|_minute|\n",
      "+-------+-------------------+----------+----+------+-----+-----+-------+\n",
      "|1      |2010-09-04 16:38:53|25        |4   |9     |2010 |16   |38     |\n",
      "|2      |2010-09-16 14:10:58|7         |16  |9     |2010 |14   |10     |\n",
      "|3      |2010-09-16 21:23:20|16        |16  |9     |2010 |21   |23     |\n",
      "|4      |2010-09-25 01:49:18|28        |25  |9     |2010 |1    |49     |\n",
      "|5      |2010-09-29 11:57:08|17        |29  |9     |2010 |11   |57     |\n",
      "+-------+-------------------+----------+----+------+-----+-----+-------+\n",
      "only showing top 5 rows\n",
      "\n"
     ]
    }
   ],
   "source": [
    "D_Date.show(5,False)"
   ]
  },
  {
   "cell_type": "code",
   "execution_count": 28,
   "id": "e3fd66f3",
   "metadata": {},
   "outputs": [],
   "source": [
    "#Candidate\n",
    "D_Candidate = df.select('ID_Candidate', 'Full_Name', 'firstName','lastName','age','skills_split','applicationDate').dropDuplicates()"
   ]
  },
  {
   "cell_type": "code",
   "execution_count": 33,
   "id": "c3bd28c8",
   "metadata": {},
   "outputs": [
    {
     "name": "stdout",
     "output_type": "stream",
     "text": [
      "+------------+-------------+---------+--------+---+--------------------+-------------------+\n",
      "|ID_Candidate|    Full_Name|firstName|lastName|age|        skills_split|    applicationDate|\n",
      "+------------+-------------+---------+--------+---+--------------------+-------------------+\n",
      "|           1|  Aaren Legen|    Aaren|   Legen| 59|Ektron, Online Re...|2012-12-03 01:46:39|\n",
      "|           2|  Abbie Ilett|    Abbie|   Ilett| 40|Hydrology, Profes...|2012-11-30 09:58:19|\n",
      "|           3|Abbye Freathy|    Abbye| Freathy| 37|Igneous Petrology...|2018-04-09 10:00:01|\n",
      "|           4| Abe Alenshev|      Abe|Alenshev| 25|Ultimate Frisbee,...|2014-09-11 15:42:49|\n",
      "|           5|  Abe Gleeson|      Abe| Gleeson| 63|BDC, PWM, News Wr...|2015-02-21 06:18:04|\n",
      "+------------+-------------+---------+--------+---+--------------------+-------------------+\n",
      "only showing top 5 rows\n",
      "\n"
     ]
    }
   ],
   "source": [
    "D_Candidate.show(5)"
   ]
  },
  {
   "cell_type": "code",
   "execution_count": 30,
   "id": "3d1d517d",
   "metadata": {},
   "outputs": [],
   "source": [
    "#Work\n",
    "D_Work = df.select('id_adverts', 'title', 'status', 'applyUrl', 'benefits_split').dropDuplicates()"
   ]
  },
  {
   "cell_type": "code",
   "execution_count": 32,
   "id": "8fd6d650",
   "metadata": {},
   "outputs": [
    {
     "name": "stdout",
     "output_type": "stream",
     "text": [
      "+--------------------+--------------------+--------+--------------------+--------------------+\n",
      "|          id_adverts|               title|  status|            applyUrl|      benefits_split|\n",
      "+--------------------+--------------------+--------+--------------------+--------------------+\n",
      "|1c9c2375-57aa-494...|       VP Accounting|  Active|https://army.mil/...|Medical Insurance...|\n",
      "|47037f4f-2b75-41c...|Mechanical System...|Inactive|https://dailymoti...|Dental Plan, Home...|\n",
      "|30b51262-b7f8-407...|Accounting Assist...|  Active|https://jugem.jp/...|Car, Dental Plan,...|\n",
      "|a7ed7dfb-d4f2-472...|      Civil Engineer|  Active|http://angelfire....|Car, Home Office,...|\n",
      "|7e1ace18-af5a-4d0...| Electrical Engineer| Deleted|https://usnews.co...|Phone, Home Offic...|\n",
      "+--------------------+--------------------+--------+--------------------+--------------------+\n",
      "only showing top 5 rows\n",
      "\n"
     ]
    }
   ],
   "source": [
    "D_Work.show(5)"
   ]
  },
  {
   "cell_type": "markdown",
   "id": "8871ab58",
   "metadata": {},
   "source": [
    "# Facts Table"
   ]
  },
  {
   "cell_type": "code",
   "execution_count": 35,
   "id": "8341863a",
   "metadata": {},
   "outputs": [],
   "source": [
    "Fact_Table = df.select(\"id_principal\",\n",
    "                       \"ID_Company\",\n",
    "                       \"ID_Date\",\n",
    "                       \"id_adverts\",\n",
    "                       \"ID_Candidate\"\n",
    "                      )"
   ]
  },
  {
   "cell_type": "code",
   "execution_count": null,
   "id": "78c55aea",
   "metadata": {},
   "outputs": [],
   "source": [
    "import psycopg2\n",
    "def InsertIntoRedshift(df, Table_Name):\n",
    "    #Creating connection\n",
    "    conn = psycopg2.connect(\n",
    "        host=host,\n",
    "        port=port,\n",
    "        dbname=database,\n",
    "        user=user,\n",
    "        password=password\n",
    "    )\n",
    "    cursor = conn.cursor()\n",
    "    #Creating Temp df\n",
    "    table_name_temp = f'{Table_Name}_temp'\n",
    "    df.createOrReplaceTempView(table_name_temp)\n",
    "\n",
    "    #Inserting dataframe/table. In this part I assumed the tables already exists\n",
    "    insert_query = f'''\n",
    "        INSERT INTO Table_Name{}\n",
    "        SELECT *\n",
    "        FROM {table_name_temp}\n",
    "    '''\n",
    "    cursor.execute(insert_query)\n",
    "    conn.commit()\n",
    "\n",
    "    #Closing connection\n",
    "    cursor.close()\n",
    "    conn.close()"
   ]
  },
  {
   "cell_type": "code",
   "execution_count": null,
   "id": "2ee17a66",
   "metadata": {},
   "outputs": [],
   "source": []
  }
 ],
 "metadata": {
  "kernelspec": {
   "display_name": "Python 3 (ipykernel)",
   "language": "python",
   "name": "python3"
  },
  "language_info": {
   "codemirror_mode": {
    "name": "ipython",
    "version": 3
   },
   "file_extension": ".py",
   "mimetype": "text/x-python",
   "name": "python",
   "nbconvert_exporter": "python",
   "pygments_lexer": "ipython3",
   "version": "3.10.9"
  }
 },
 "nbformat": 4,
 "nbformat_minor": 5
}
